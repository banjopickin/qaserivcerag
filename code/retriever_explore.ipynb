{
 "cells": [
  {
   "cell_type": "code",
   "execution_count": 1,
   "id": "30ef6956-352a-46e2-a83e-4e4e60e303d4",
   "metadata": {},
   "outputs": [
    {
     "data": {
      "text/plain": [
       "True"
      ]
     },
     "execution_count": 1,
     "metadata": {},
     "output_type": "execute_result"
    }
   ],
   "source": [
    "import dotenv\n",
    "\n",
    "dotenv.load_dotenv()"
   ]
  },
  {
   "cell_type": "markdown",
   "id": "70528a6a-8e51-41d8-8ed6-16adee451563",
   "metadata": {},
   "source": [
    "In this document I will explore difference kinds of Vector Retriever in Langchain. I will try the vanilla version `Vectorstore`, then `MultiVectorRetriever` using smaller chunks embedding which is similar to `ParentDocumentRetriever`, as well as summary embedding. I will use the some query to measure the performance"
   ]
  },
  {
   "cell_type": "code",
   "execution_count": 2,
   "id": "f05d92b5-11e3-44e4-82b2-ff7fc1b39386",
   "metadata": {},
   "outputs": [],
   "source": [
    "import bs4\n",
    "from langchain import hub\n",
    "from langchain_core.documents import Document\n",
    "from langchain_community.document_loaders import WebBaseLoader\n",
    "from langchain_chroma import Chroma\n",
    "from langchain_core.output_parsers import StrOutputParser\n",
    "from langchain_core.runnables import RunnablePassthrough\n",
    "from langchain_openai import OpenAIEmbeddings\n",
    "from langchain_text_splitters import RecursiveCharacterTextSplitter\n",
    "from langchain_core.prompts import PromptTemplate\n",
    "from langchain.retrievers.multi_vector import MultiVectorRetriever\n",
    "from langchain.storage import InMemoryByteStore\n",
    "from langchain_core.prompts import ChatPromptTemplate"
   ]
  },
  {
   "cell_type": "code",
   "execution_count": 3,
   "id": "47874dd9-1900-40c3-bcca-7a1bef3d007f",
   "metadata": {},
   "outputs": [],
   "source": [
    "from langchain_openai import ChatOpenAI\n",
    "\n",
    "llm = ChatOpenAI(model=\"gpt-3.5-turbo-0125\")"
   ]
  },
  {
   "cell_type": "markdown",
   "id": "97d9e1c8-9650-4c3e-9374-64dc6ac0960b",
   "metadata": {},
   "source": [
    "## Load pages and split into chunks"
   ]
  },
  {
   "cell_type": "code",
   "execution_count": 4,
   "id": "1ec82c90-658e-4c20-a08d-6c50e3cb6618",
   "metadata": {},
   "outputs": [],
   "source": [
    "pages = [\"https://zylo.com/blog/guide-saas-renewal/\", \"https://zylo.com/blog/saas-management/\"]"
   ]
  },
  {
   "cell_type": "code",
   "execution_count": 5,
   "id": "cca23f57-54f1-4df7-804b-1d98c8373676",
   "metadata": {},
   "outputs": [],
   "source": [
    "loader = WebBaseLoader(\n",
    "    web_paths=pages,\n",
    "    bs_kwargs=dict(\n",
    "        parse_only=bs4.SoupStrainer(\n",
    "            class_=(\"hero__text-section-container col col-12 col-lg-6\", \"site-main\")\n",
    "        )\n",
    "    ),\n",
    ")\n",
    "docs = loader.load()"
   ]
  },
  {
   "cell_type": "code",
   "execution_count": 6,
   "id": "348a9e42-f47e-4c87-bba4-73de6acaef74",
   "metadata": {},
   "outputs": [],
   "source": [
    "text_splitter = RecursiveCharacterTextSplitter(chunk_size=1000)\n",
    "docs = text_splitter.split_documents(docs)"
   ]
  },
  {
   "cell_type": "code",
   "execution_count": 7,
   "id": "ff0d7ca7-bdb6-422d-a926-d8a18edbb547",
   "metadata": {},
   "outputs": [
    {
     "data": {
      "text/plain": [
       "76"
      ]
     },
     "execution_count": 7,
     "metadata": {},
     "output_type": "execute_result"
    }
   ],
   "source": [
    "len(docs)"
   ]
  },
  {
   "cell_type": "markdown",
   "id": "0932522e-c46c-4362-926a-2ea641ce3996",
   "metadata": {},
   "source": [
    "# Vanilla retriever: vectorstore"
   ]
  },
  {
   "cell_type": "code",
   "execution_count": 8,
   "id": "1c3450e8-1ff4-4a04-a125-6dec7e48625d",
   "metadata": {},
   "outputs": [],
   "source": [
    "vectorstore = Chroma.from_documents(documents=docs, embedding=OpenAIEmbeddings())\n",
    "retriever = vectorstore.as_retriever(search_type=\"similarity\", search_kwargs={\"k\": 6})"
   ]
  },
  {
   "cell_type": "code",
   "execution_count": 9,
   "id": "814df386-499d-4bf7-a976-80d8abf59320",
   "metadata": {},
   "outputs": [],
   "source": [
    "retrieved_docs = retriever.invoke(\"saas renewal strategy\")"
   ]
  },
  {
   "cell_type": "code",
   "execution_count": 10,
   "id": "3c16acf7-01b1-48e1-8138-ee4b949e6002",
   "metadata": {},
   "outputs": [
    {
     "data": {
      "text/plain": [
       "[Document(page_content='However, this can be challenging due to the sheer number of known and unknown applications operating across an organization. That’s why your organization needs a strong SaaS renewal strategy.\\xa0\\nGoals of a SaaS Renewal Strategy\\nProactively managing your renewals is vital for holistic SaaS management. Rather than dealing with renewals only when they appear, a strong SaaS renewal strategy empowers organizations to cut SaaS costs and risks. This is essential for optimizing your SaaS investments.\\xa0\\nAn effective SaaS renewal strategy will:', metadata={'source': 'https://zylo.com/blog/guide-saas-renewal/'}),\n",
       " Document(page_content='SaaS Renewal Management\\nIn most companies, SaaS renewals occur without any sort of structure. Auto-renewals, click-through terms, and lack of benchmark data leave you ill-prepared and overpaying for software. The average organization has more than 200 renewals a year – that’s about one per business day!\\xa0\\nWith that many renewals, it can feel impossible to keep up. That’s why renewal management is the critical third pillar of SaaS Management.\\nSaaS renewal management is the process of renewing a software contract from strategy and preparation to negotiation and acceptance. The right framework enables you to proactively and programmatically manage renewals, negotiate the best price, and save money – and ultimately make more intelligent and confident renewal and purchasing decisions.\\xa0\\nRenewals typically fall under the purview of Procurement or IT, depending on the size of your organization – and even Software Asset Management at large enterprises.', metadata={'source': 'https://zylo.com/blog/saas-management/'}),\n",
       " Document(page_content='Ownership of SaaS applications in recent years has shifted from IT to individuals and business units. That now accounts for more than half (72%) of SaaS spending, and 83% of the application quantity. For many organizations, this shift to decentralized SaaS makes sense when compared to on-premise software asset management. This is due to the fact that SaaS tools:\\n\\n\\nOffer lower per-solution cost\\nProvide proof of concept before purchase\\nCan be implemented more easily\\nScale with the business\\n\\nHowever, the prevalence of automatic renewal clauses in SaaS subscriptions makes charting a holistic renewal strategy a critical task.\\nRegardless of company size or experience, the growing adoption of SaaS also challenges business leaders to find new ways to safeguard value, demonstrate ROI, and prevent risk with this large area of investment.\\n\\nIn this guide, you will learn how SaaS Renewal Management:', metadata={'source': 'https://zylo.com/blog/guide-saas-renewal/'}),\n",
       " Document(page_content='Identify SaaS ownership – Visibility is always the first step in proactive SaaS management. By knowing who and what is using a SaaS application, identifying SaaS ownership enables organizations to better track spending and usage.\\xa0\\nPrevent missed renewal dates –\\xa0 A missed renewal date is a missed opportunity. Knowing exactly what is up for renewal allows organizations to evaluate and prepare while avoiding the costs associated with a missed renewal.\\nEmpower Line of Business owners – Effective SaaS renewal strategies enable line of business owners to make strategic and effective decisions in their SaaS purchases.\\nImprove value – Eliminating redundant spending and enacting enterprise agreements help organizations get the most out of their subscriptions.\\xa0\\nManage proactively – A SaaS renewal strategy shifts your business from reactive to proactive SaaS management. Take control of your renewals.', metadata={'source': 'https://zylo.com/blog/guide-saas-renewal/'}),\n",
       " Document(page_content='What Is a SaaS Renewal?\\nA SaaS renewal is simple. It is whenever the end-user renews their subscription to a SaaS application for a set time. Still, the proliferation of SaaS applications means many of these renewals are occurring across an organization regularly. This is true whether they are manual or automatic.\\nA study of Zylo’s database of over $34B in SaaS spending has revealed that a large organization will, on average, undergo at least one SaaS application renewal every business day.\\xa0\\nThese renewals offer an opportunity for organizations to evaluate their spending and usage. Is the application used to its full potential? Do we still need this app? Knowing about renewals ahead of time allows for organizations to address questions like these, and decide how they can adjust for stronger growth and future needs.', metadata={'source': 'https://zylo.com/blog/guide-saas-renewal/'}),\n",
       " Document(page_content='Even more important, businesses can comfortably review contract terms well ahead of renewal.\\xa0\\nFollow a SaaS Renewal Playbook\\nOf course, any good SaaS renewal strategy will require consistency. To prepare for this, use a SaaS renewal playbook to stay on top of your renewal calendar to systematically address renewals before, during, and after they occur.\\xa0\\nFor more help, this SaaS renewal checklist will guide you every step of the way.\\xa0\\nHow to Negotiate SaaS Contracts\\nWith the power to prepare for renewals comes the power to renegotiate your SaaS contracts. This enables organizations to work with their SaaS providers to create contracts that allow them to get the most out of their SaaS. The last thing you want to do is cave on price in negotiation – or on other contractual terms important to your business.\\nSo, here are the best practices to negotiate your SaaS contracts.', metadata={'source': 'https://zylo.com/blog/guide-saas-renewal/'})]"
      ]
     },
     "execution_count": 10,
     "metadata": {},
     "output_type": "execute_result"
    }
   ],
   "source": [
    "retrieved_docs"
   ]
  },
  {
   "cell_type": "markdown",
   "id": "dd1ca624-7380-46b6-8346-3bf159784d07",
   "metadata": {},
   "source": [
    "## MultiVectorRetriever with smaller chunks embedding"
   ]
  },
  {
   "cell_type": "code",
   "execution_count": 11,
   "id": "f5becd67-367a-418c-a08d-51f796a6b712",
   "metadata": {},
   "outputs": [],
   "source": [
    "# The vectorstore to use to index the child chunks\n",
    "vectorstore = Chroma(\n",
    "    collection_name=\"full_documents\", embedding_function=OpenAIEmbeddings()\n",
    ")\n",
    "# The storage layer for the parent documents\n",
    "store = InMemoryByteStore()\n",
    "id_key = \"doc_id\"\n",
    "# The retriever (empty to start)\n",
    "retriever = MultiVectorRetriever(\n",
    "    vectorstore=vectorstore,\n",
    "    byte_store=store,\n",
    "    id_key=id_key,\n",
    "    search_kwargs = {\"k\":10}\n",
    ")\n",
    "import uuid\n",
    "\n",
    "doc_ids = [str(uuid.uuid4()) for _ in docs]"
   ]
  },
  {
   "cell_type": "code",
   "execution_count": 12,
   "id": "78380ae8-19b2-41ca-aefb-b2d86c04767b",
   "metadata": {},
   "outputs": [],
   "source": [
    "# The splitter to use to create smaller chunks\n",
    "child_text_splitter = RecursiveCharacterTextSplitter(chunk_size=400)"
   ]
  },
  {
   "cell_type": "code",
   "execution_count": 13,
   "id": "42b574c1-cb73-4db0-ac17-a618597af176",
   "metadata": {},
   "outputs": [],
   "source": [
    "sub_docs = []\n",
    "for i, doc in enumerate(docs):\n",
    "    _id = doc_ids[i]\n",
    "    _sub_docs = child_text_splitter.split_documents([doc])\n",
    "    for _doc in _sub_docs:\n",
    "        _doc.metadata[id_key] = _id\n",
    "    sub_docs.extend(_sub_docs)"
   ]
  },
  {
   "cell_type": "code",
   "execution_count": 14,
   "id": "80b2d43d-df17-4bd2-8fd4-4cb3345f1992",
   "metadata": {},
   "outputs": [
    {
     "data": {
      "text/plain": [
       "224"
      ]
     },
     "execution_count": 14,
     "metadata": {},
     "output_type": "execute_result"
    }
   ],
   "source": [
    "len(sub_docs)"
   ]
  },
  {
   "cell_type": "code",
   "execution_count": 15,
   "id": "34785a73-98b8-4b88-ad86-b77c217e495f",
   "metadata": {},
   "outputs": [],
   "source": [
    "retriever.vectorstore.add_documents(sub_docs)\n",
    "retriever.docstore.mset(list(zip(doc_ids, docs)))"
   ]
  },
  {
   "cell_type": "code",
   "execution_count": 16,
   "id": "07cb75d7-1967-4781-afa7-447701edbe54",
   "metadata": {},
   "outputs": [
    {
     "data": {
      "text/plain": [
       "Document(page_content='Goals of a SaaS Renewal Strategy\\nProactively managing your renewals is vital for holistic SaaS management. Rather than dealing with renewals only when they appear, a strong SaaS renewal strategy empowers organizations to cut SaaS costs and risks. This is essential for optimizing your SaaS investments.\\xa0\\nAn effective SaaS renewal strategy will:', metadata={'doc_id': '29ce4bbe-6e74-4186-b412-ccfac5d89fb3', 'source': 'https://zylo.com/blog/guide-saas-renewal/'})"
      ]
     },
     "execution_count": 16,
     "metadata": {},
     "output_type": "execute_result"
    }
   ],
   "source": [
    "retriever.vectorstore.similarity_search(\"SaaS Renewal Strategy\")[0]"
   ]
  },
  {
   "cell_type": "code",
   "execution_count": 17,
   "id": "ae2e8c7a-7db7-4d91-80a4-07ec3a585441",
   "metadata": {},
   "outputs": [],
   "source": [
    "retrieved_docs = retriever.invoke(\"saas renewal strategy\")"
   ]
  },
  {
   "cell_type": "code",
   "execution_count": 18,
   "id": "f5828ab3-5fae-49d3-b337-0b3f3a3c3c9b",
   "metadata": {},
   "outputs": [
    {
     "data": {
      "text/plain": [
       "[Document(page_content='However, this can be challenging due to the sheer number of known and unknown applications operating across an organization. That’s why your organization needs a strong SaaS renewal strategy.\\xa0\\nGoals of a SaaS Renewal Strategy\\nProactively managing your renewals is vital for holistic SaaS management. Rather than dealing with renewals only when they appear, a strong SaaS renewal strategy empowers organizations to cut SaaS costs and risks. This is essential for optimizing your SaaS investments.\\xa0\\nAn effective SaaS renewal strategy will:', metadata={'source': 'https://zylo.com/blog/guide-saas-renewal/'}),\n",
       " Document(page_content='SaaS Renewal Management\\nIn most companies, SaaS renewals occur without any sort of structure. Auto-renewals, click-through terms, and lack of benchmark data leave you ill-prepared and overpaying for software. The average organization has more than 200 renewals a year – that’s about one per business day!\\xa0\\nWith that many renewals, it can feel impossible to keep up. That’s why renewal management is the critical third pillar of SaaS Management.\\nSaaS renewal management is the process of renewing a software contract from strategy and preparation to negotiation and acceptance. The right framework enables you to proactively and programmatically manage renewals, negotiate the best price, and save money – and ultimately make more intelligent and confident renewal and purchasing decisions.\\xa0\\nRenewals typically fall under the purview of Procurement or IT, depending on the size of your organization – and even Software Asset Management at large enterprises.', metadata={'source': 'https://zylo.com/blog/saas-management/'}),\n",
       " Document(page_content='Ownership of SaaS applications in recent years has shifted from IT to individuals and business units. That now accounts for more than half (72%) of SaaS spending, and 83% of the application quantity. For many organizations, this shift to decentralized SaaS makes sense when compared to on-premise software asset management. This is due to the fact that SaaS tools:\\n\\n\\nOffer lower per-solution cost\\nProvide proof of concept before purchase\\nCan be implemented more easily\\nScale with the business\\n\\nHowever, the prevalence of automatic renewal clauses in SaaS subscriptions makes charting a holistic renewal strategy a critical task.\\nRegardless of company size or experience, the growing adoption of SaaS also challenges business leaders to find new ways to safeguard value, demonstrate ROI, and prevent risk with this large area of investment.\\n\\nIn this guide, you will learn how SaaS Renewal Management:', metadata={'source': 'https://zylo.com/blog/guide-saas-renewal/'}),\n",
       " Document(page_content='Identify SaaS ownership – Visibility is always the first step in proactive SaaS management. By knowing who and what is using a SaaS application, identifying SaaS ownership enables organizations to better track spending and usage.\\xa0\\nPrevent missed renewal dates –\\xa0 A missed renewal date is a missed opportunity. Knowing exactly what is up for renewal allows organizations to evaluate and prepare while avoiding the costs associated with a missed renewal.\\nEmpower Line of Business owners – Effective SaaS renewal strategies enable line of business owners to make strategic and effective decisions in their SaaS purchases.\\nImprove value – Eliminating redundant spending and enacting enterprise agreements help organizations get the most out of their subscriptions.\\xa0\\nManage proactively – A SaaS renewal strategy shifts your business from reactive to proactive SaaS management. Take control of your renewals.', metadata={'source': 'https://zylo.com/blog/guide-saas-renewal/'}),\n",
       " Document(page_content='Even more important, businesses can comfortably review contract terms well ahead of renewal.\\xa0\\nFollow a SaaS Renewal Playbook\\nOf course, any good SaaS renewal strategy will require consistency. To prepare for this, use a SaaS renewal playbook to stay on top of your renewal calendar to systematically address renewals before, during, and after they occur.\\xa0\\nFor more help, this SaaS renewal checklist will guide you every step of the way.\\xa0\\nHow to Negotiate SaaS Contracts\\nWith the power to prepare for renewals comes the power to renegotiate your SaaS contracts. This enables organizations to work with their SaaS providers to create contracts that allow them to get the most out of their SaaS. The last thing you want to do is cave on price in negotiation – or on other contractual terms important to your business.\\nSo, here are the best practices to negotiate your SaaS contracts.', metadata={'source': 'https://zylo.com/blog/guide-saas-renewal/'}),\n",
       " Document(page_content='What Is a SaaS Renewal?\\nA SaaS renewal is simple. It is whenever the end-user renews their subscription to a SaaS application for a set time. Still, the proliferation of SaaS applications means many of these renewals are occurring across an organization regularly. This is true whether they are manual or automatic.\\nA study of Zylo’s database of over $34B in SaaS spending has revealed that a large organization will, on average, undergo at least one SaaS application renewal every business day.\\xa0\\nThese renewals offer an opportunity for organizations to evaluate their spending and usage. Is the application used to its full potential? Do we still need this app? Knowing about renewals ahead of time allows for organizations to address questions like these, and decide how they can adjust for stronger growth and future needs.', metadata={'source': 'https://zylo.com/blog/guide-saas-renewal/'})]"
      ]
     },
     "execution_count": 18,
     "metadata": {},
     "output_type": "execute_result"
    }
   ],
   "source": [
    "retrieved_docs"
   ]
  },
  {
   "cell_type": "markdown",
   "id": "eccf97ca-2bf3-45de-9bde-1ef23adc79f7",
   "metadata": {},
   "source": [
    "# MultiVectorRetriever with summary embeddings"
   ]
  },
  {
   "cell_type": "code",
   "execution_count": 19,
   "id": "3a48b27c-67d1-41a2-b41f-facb84f6e225",
   "metadata": {},
   "outputs": [],
   "source": [
    "chain = (\n",
    "    {\"doc\": lambda x: x.page_content}\n",
    "    | ChatPromptTemplate.from_template(\"Summarize the following document:\\n\\n{doc}\")\n",
    "    | ChatOpenAI(max_retries=0)\n",
    "    | StrOutputParser()\n",
    ")"
   ]
  },
  {
   "cell_type": "code",
   "execution_count": 20,
   "id": "3782a5da-dc73-4921-9ac2-52e3e5b64f89",
   "metadata": {},
   "outputs": [],
   "source": [
    "summaries = chain.batch(docs, {\"max_concurrency\": 5})"
   ]
  },
  {
   "cell_type": "code",
   "execution_count": 21,
   "id": "b2e41afc-32f6-4576-8797-27c7218a052a",
   "metadata": {},
   "outputs": [
    {
     "data": {
      "text/plain": [
       "76"
      ]
     },
     "execution_count": 21,
     "metadata": {},
     "output_type": "execute_result"
    }
   ],
   "source": [
    "len(summaries)"
   ]
  },
  {
   "cell_type": "code",
   "execution_count": 22,
   "id": "2a35f656-151a-4aae-96af-4dc5d366fc2f",
   "metadata": {},
   "outputs": [],
   "source": [
    "# The vectorstore to use to index the child chunks\n",
    "vectorstore = Chroma(collection_name=\"summaries\", embedding_function=OpenAIEmbeddings())\n",
    "# The storage layer for the parent documents\n",
    "store = InMemoryByteStore()\n",
    "id_key = \"doc_id\"\n",
    "# The retriever (empty to start)\n",
    "retriever = MultiVectorRetriever(\n",
    "    vectorstore=vectorstore,\n",
    "    byte_store=store,\n",
    "    id_key=id_key,\n",
    "    search_kwargs = {\"k\":10}\n",
    ")\n",
    "doc_ids = [str(uuid.uuid4()) for _ in docs]"
   ]
  },
  {
   "cell_type": "code",
   "execution_count": 23,
   "id": "62df9f81-6e25-4115-bb3b-e655a8b3c12c",
   "metadata": {},
   "outputs": [],
   "source": [
    "summary_docs = [\n",
    "    Document(page_content=s, metadata={id_key: doc_ids[i]})\n",
    "    for i, s in enumerate(summaries)\n",
    "]"
   ]
  },
  {
   "cell_type": "code",
   "execution_count": 24,
   "id": "655adbb7-6d83-4bfd-8c21-e876662aa4b4",
   "metadata": {},
   "outputs": [],
   "source": [
    "retriever.vectorstore.add_documents(summary_docs)\n",
    "retriever.docstore.mset(list(zip(doc_ids, docs)))"
   ]
  },
  {
   "cell_type": "code",
   "execution_count": 25,
   "id": "a48b7930-0120-4373-aac1-53b806ec913c",
   "metadata": {},
   "outputs": [
    {
     "data": {
      "text/plain": [
       "[Document(page_content='The document emphasizes the importance of having a strong SaaS renewal strategy in place in order to proactively manage renewals, cut costs, and minimize risks associated with the numerous applications operating within an organization. The goals of such a strategy include optimizing SaaS investments and taking a holistic approach to SaaS management.', metadata={'doc_id': 'fe63348e-38c2-41f1-a234-4bd97b65ba42'}),\n",
       " Document(page_content='SaaS renewals are often overlooked and can result in overpaying for software due to lack of structure and benchmark data. With an average of 200 renewals per year, renewal management is crucial for negotiating the best price and making intelligent purchasing decisions. This process involves strategy, preparation, negotiation, and acceptance of software contracts, and is typically managed by Procurement, IT, or Software Asset Management departments.', metadata={'doc_id': 'e6d1a195-53fd-4aba-9e2b-4530ed35acbc'}),\n",
       " Document(page_content='This blog provides a guide to SaaS renewals, including what a SaaS renewal is, the goals of a SaaS renewal strategy, how to prepare for a SaaS renewal, and tips on negotiating SaaS contracts to get the best deal. It also mentions how Zylo can help procurement proactively manage renewals.', metadata={'doc_id': '20bc2d0f-9de7-4001-a804-9d32d51c2cd2'}),\n",
       " Document(page_content='A SaaS renewal is when an end-user renews their subscription to a SaaS application for a set time. With the increasing number of SaaS applications being used within organizations, renewals are happening regularly. Organizations can take advantage of these renewals to evaluate their spending and usage of the applications, allowing them to make adjustments for future growth and needs.', metadata={'doc_id': '6595756e-1b24-444b-8dab-2994a5b939a3'})]"
      ]
     },
     "execution_count": 25,
     "metadata": {},
     "output_type": "execute_result"
    }
   ],
   "source": [
    "vectorstore.similarity_search(\"saas renewal strategy\")"
   ]
  },
  {
   "cell_type": "code",
   "execution_count": 26,
   "id": "61d76213-41f3-448a-a0eb-e49dae2300c7",
   "metadata": {},
   "outputs": [
    {
     "data": {
      "text/plain": [
       "[Document(page_content='However, this can be challenging due to the sheer number of known and unknown applications operating across an organization. That’s why your organization needs a strong SaaS renewal strategy.\\xa0\\nGoals of a SaaS Renewal Strategy\\nProactively managing your renewals is vital for holistic SaaS management. Rather than dealing with renewals only when they appear, a strong SaaS renewal strategy empowers organizations to cut SaaS costs and risks. This is essential for optimizing your SaaS investments.\\xa0\\nAn effective SaaS renewal strategy will:', metadata={'source': 'https://zylo.com/blog/guide-saas-renewal/'}),\n",
       " Document(page_content='SaaS Renewal Management\\nIn most companies, SaaS renewals occur without any sort of structure. Auto-renewals, click-through terms, and lack of benchmark data leave you ill-prepared and overpaying for software. The average organization has more than 200 renewals a year – that’s about one per business day!\\xa0\\nWith that many renewals, it can feel impossible to keep up. That’s why renewal management is the critical third pillar of SaaS Management.\\nSaaS renewal management is the process of renewing a software contract from strategy and preparation to negotiation and acceptance. The right framework enables you to proactively and programmatically manage renewals, negotiate the best price, and save money – and ultimately make more intelligent and confident renewal and purchasing decisions.\\xa0\\nRenewals typically fall under the purview of Procurement or IT, depending on the size of your organization – and even Software Asset Management at large enterprises.', metadata={'source': 'https://zylo.com/blog/saas-management/'}),\n",
       " Document(page_content='Blog\\n\\n\\tGuide to SaaS Renewals\\n\\n\\n\\n\\n\\n\\n\\n\\n\\n\\nTable of Contents\\nToggleWhat Is a SaaS Renewal?Goals of a SaaS Renewal StrategyHow to Prepare for a SaaS RenewalHow to Negotiate SaaS ContractsNegotiate the Best DealHow Zylo Helps Procurement Proactively Manage Renewals', metadata={'source': 'https://zylo.com/blog/guide-saas-renewal/'}),\n",
       " Document(page_content='What Is a SaaS Renewal?\\nA SaaS renewal is simple. It is whenever the end-user renews their subscription to a SaaS application for a set time. Still, the proliferation of SaaS applications means many of these renewals are occurring across an organization regularly. This is true whether they are manual or automatic.\\nA study of Zylo’s database of over $34B in SaaS spending has revealed that a large organization will, on average, undergo at least one SaaS application renewal every business day.\\xa0\\nThese renewals offer an opportunity for organizations to evaluate their spending and usage. Is the application used to its full potential? Do we still need this app? Knowing about renewals ahead of time allows for organizations to address questions like these, and decide how they can adjust for stronger growth and future needs.', metadata={'source': 'https://zylo.com/blog/guide-saas-renewal/'}),\n",
       " Document(page_content='In this guide, you will learn how SaaS Renewal Management:\\n\\n\\nReduces the financial impacts of missed renewals and redundant purchases\\nIncreases visibility and awareness of an organization’s entire SaaS portfolio\\nImproves organizational security and data protection\\n\\n\\n\\n\\nThe Practical Guide to Rationalizing, Rightsizing and Renewing SaaS\\n\\nLearn More', metadata={'source': 'https://zylo.com/blog/guide-saas-renewal/'}),\n",
       " Document(page_content='Identify SaaS ownership – Visibility is always the first step in proactive SaaS management. By knowing who and what is using a SaaS application, identifying SaaS ownership enables organizations to better track spending and usage.\\xa0\\nPrevent missed renewal dates –\\xa0 A missed renewal date is a missed opportunity. Knowing exactly what is up for renewal allows organizations to evaluate and prepare while avoiding the costs associated with a missed renewal.\\nEmpower Line of Business owners – Effective SaaS renewal strategies enable line of business owners to make strategic and effective decisions in their SaaS purchases.\\nImprove value – Eliminating redundant spending and enacting enterprise agreements help organizations get the most out of their subscriptions.\\xa0\\nManage proactively – A SaaS renewal strategy shifts your business from reactive to proactive SaaS management. Take control of your renewals.', metadata={'source': 'https://zylo.com/blog/guide-saas-renewal/'}),\n",
       " Document(page_content='Even more important, businesses can comfortably review contract terms well ahead of renewal.\\xa0\\nFollow a SaaS Renewal Playbook\\nOf course, any good SaaS renewal strategy will require consistency. To prepare for this, use a SaaS renewal playbook to stay on top of your renewal calendar to systematically address renewals before, during, and after they occur.\\xa0\\nFor more help, this SaaS renewal checklist will guide you every step of the way.\\xa0\\nHow to Negotiate SaaS Contracts\\nWith the power to prepare for renewals comes the power to renegotiate your SaaS contracts. This enables organizations to work with their SaaS providers to create contracts that allow them to get the most out of their SaaS. The last thing you want to do is cave on price in negotiation – or on other contractual terms important to your business.\\nSo, here are the best practices to negotiate your SaaS contracts.', metadata={'source': 'https://zylo.com/blog/guide-saas-renewal/'}),\n",
       " Document(page_content='Negotiate the Best Deal\\nNow that you know how to prepare for a renewal conversation, you can move on to what to bring to the table. These tactics will help you negotiate the SaaS fees and terms you need to get the most out of your software.', metadata={'source': 'https://zylo.com/blog/guide-saas-renewal/'}),\n",
       " Document(page_content='How to Prepare for a SaaS Renewal\\nRather than dealing with renewals as they appear, we recommend that organizations prepare a 90-day window – or more for large, enterprise suites such as Microsoft or Salesforce. Planning allows you to never miss a renewal date, saving you from the risk of your contract locking in for another year.\\xa0\\xa0\\nUnderstand What You Have\\nThis begins with full visibility of your SaaS assets. After all, how can you manage what you don’t know you have? This empowers you to identify ownership and usage across your organization and to strike a balance between IT, LOB, and individuals. From there, you’re prepared to optimize your utilization towards a recommended 90% rate.\\xa0\\nRationalize and Rightsize\\nOnce you identify who is using what, you are then ready to rationalize and rightsize your SaaS portfolio.', metadata={'source': 'https://zylo.com/blog/guide-saas-renewal/'}),\n",
       " Document(page_content='Communicate the path to execution with the vendor – Communicating with transparency the how and why of your needs to a SaaS vendor can help you expedite the negotiation process. Vendors can then return the favor by laying out limitations and potential workarounds to help create win-win situations for both parties.\\xa0\\xa0\\nBe proactive with renewals – \\xa0Planning for renewals prepares you for renegotiations. Even if negotiation isn’t on the board, proactive planning keeps costs down and eliminates reliance on auto-renewals.', metadata={'source': 'https://zylo.com/blog/guide-saas-renewal/'})]"
      ]
     },
     "execution_count": 26,
     "metadata": {},
     "output_type": "execute_result"
    }
   ],
   "source": [
    "retriever.invoke(\"saas renewal strategy\")"
   ]
  },
  {
   "cell_type": "code",
   "execution_count": null,
   "id": "8ec81374-4256-4c67-ac65-69256e9be0bc",
   "metadata": {},
   "outputs": [],
   "source": []
  }
 ],
 "metadata": {
  "kernelspec": {
   "display_name": "Python 3 (ipykernel)",
   "language": "python",
   "name": "python3"
  },
  "language_info": {
   "codemirror_mode": {
    "name": "ipython",
    "version": 3
   },
   "file_extension": ".py",
   "mimetype": "text/x-python",
   "name": "python",
   "nbconvert_exporter": "python",
   "pygments_lexer": "ipython3",
   "version": "3.11.9"
  }
 },
 "nbformat": 4,
 "nbformat_minor": 5
}

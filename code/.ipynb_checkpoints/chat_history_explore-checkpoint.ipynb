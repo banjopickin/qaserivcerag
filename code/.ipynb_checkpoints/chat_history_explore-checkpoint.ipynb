{
 "cells": [
  {
   "cell_type": "code",
   "execution_count": 1,
   "id": "b2b7c905-38cc-4fdc-b90a-d05ced4143f7",
   "metadata": {},
   "outputs": [
    {
     "data": {
      "text/plain": [
       "True"
      ]
     },
     "execution_count": 1,
     "metadata": {},
     "output_type": "execute_result"
    }
   ],
   "source": [
    "import dotenv\n",
    "\n",
    "dotenv.load_dotenv()"
   ]
  },
  {
   "cell_type": "markdown",
   "id": "a5cc028d-ac3b-4b76-a410-de072956a21b",
   "metadata": {},
   "source": [
    "# RAG chain with chat history\n",
    "\n",
    "In this notebook, I will explore how to improve the QA service by incorporating historical messages.\n",
    "\n",
    "First, Let's load a page and set up a retriever\n",
    "### DOC Loader and Retriever"
   ]
  },
  {
   "cell_type": "code",
   "execution_count": 2,
   "id": "3dfac30a-95f0-4b23-9a28-a552858dab67",
   "metadata": {},
   "outputs": [],
   "source": [
    "import bs4\n",
    "from langchain import hub\n",
    "from langchain_community.document_loaders import WebBaseLoader\n",
    "from langchain_chroma import Chroma\n",
    "from langchain_core.output_parsers import StrOutputParser\n",
    "from langchain_core.runnables import RunnablePassthrough\n",
    "from langchain_openai import OpenAIEmbeddings\n",
    "from langchain_text_splitters import RecursiveCharacterTextSplitter\n",
    "from langchain_core.prompts import PromptTemplate\n"
   ]
  },
  {
   "cell_type": "code",
   "execution_count": 3,
   "id": "2a455f38-1912-48ef-a4f0-3e9c2f117362",
   "metadata": {},
   "outputs": [],
   "source": [
    "from langchain_openai import ChatOpenAI\n",
    "\n",
    "llm = ChatOpenAI(model=\"gpt-3.5-turbo-0125\")"
   ]
  },
  {
   "cell_type": "code",
   "execution_count": 4,
   "id": "2564a63b-7577-4db1-9593-bfd3e1c361df",
   "metadata": {},
   "outputs": [],
   "source": [
    "page = \"https://zylo.com/blog/saas-management/\""
   ]
  },
  {
   "cell_type": "code",
   "execution_count": 5,
   "id": "83bcfd3d-e6b9-4f38-887b-7bf77056fb6b",
   "metadata": {},
   "outputs": [],
   "source": [
    "loader = WebBaseLoader(\n",
    "    web_paths=(page,),\n",
    "    bs_kwargs=dict(\n",
    "        parse_only=bs4.SoupStrainer(\n",
    "            class_=(\"hero__text-section-container col col-12 col-lg-6\", \"site-main\")\n",
    "        )\n",
    "    ),\n",
    ")\n",
    "docs = loader.load()"
   ]
  },
  {
   "cell_type": "code",
   "execution_count": 6,
   "id": "9be26eff-06f3-4b45-b1ad-6685b30d4472",
   "metadata": {},
   "outputs": [],
   "source": [
    "text_splitter = RecursiveCharacterTextSplitter(\n",
    "    chunk_size=1000, chunk_overlap=200, add_start_index=True\n",
    ")\n",
    "all_splits = text_splitter.split_documents(docs)"
   ]
  },
  {
   "cell_type": "code",
   "execution_count": 7,
   "id": "5d65b214-8ffe-4286-969d-93aee4004c14",
   "metadata": {},
   "outputs": [],
   "source": [
    "vectorstore = Chroma.from_documents(documents=all_splits, \n",
    "                                    embedding=OpenAIEmbeddings(model=\"text-embedding-ada-002\"))"
   ]
  },
  {
   "cell_type": "code",
   "execution_count": 8,
   "id": "c7ff4a50-d50c-4ce8-bc31-8b99ca776fa1",
   "metadata": {},
   "outputs": [],
   "source": [
    "# Retrieve and generate using the relevant snippets of the blog.\n",
    "retriever = vectorstore.as_retriever(search_type=\"similarity\", search_kwargs={\"k\": 6})"
   ]
  },
  {
   "cell_type": "markdown",
   "id": "6d319647-971a-45c9-992d-c805b0e9b3a2",
   "metadata": {},
   "source": [
    "## Chat history retriever\n",
    "\n",
    "Now it's time to build a subchain that contextualizes the input question. It passes previous questions and input questions to the LLM. The LLM will reformulate a standalone question so that it can be understood without the context. Then pass this question to the retriever to search for the relevant text.\n",
    "\n",
    "Use `MessagesPlaceholder` to pass the chat history list with input name 'chat_history`. `create_history_aware_retriever` creates a execution sequence prompt | llm | StrOutputParser() | retriever\n"
   ]
  },
  {
   "cell_type": "code",
   "execution_count": 9,
   "id": "5f9fbf06-8c27-4550-aa63-746097dc2d6c",
   "metadata": {},
   "outputs": [],
   "source": [
    "from langchain.chains import create_history_aware_retriever\n",
    "from langchain_core.prompts import ChatPromptTemplate, MessagesPlaceholder\n",
    "\n",
    "contextualize_q_system_prompt = \"\"\"Given a chat history and the latest user question \\\n",
    "which might reference context in the chat history, formulate a standalone question \\\n",
    "which can be understood without the chat history. Do NOT answer the question, \\\n",
    "just reformulate it if needed and otherwise return it as is.\"\"\"\n",
    "contextualize_q_prompt = ChatPromptTemplate.from_messages(\n",
    "    [\n",
    "        (\"system\", contextualize_q_system_prompt),\n",
    "        MessagesPlaceholder(\"chat_history\"),\n",
    "        (\"human\", \"{input}\"),\n",
    "    ]\n",
    ")\n",
    "history_aware_retriever = create_history_aware_retriever(\n",
    "    llm, retriever, contextualize_q_prompt\n",
    ")"
   ]
  },
  {
   "cell_type": "markdown",
   "id": "444fe8bb-b6f7-4273-936d-1b779d74c837",
   "metadata": {},
   "source": [
    "Take a look at contextualize_q_prompt messages"
   ]
  },
  {
   "cell_type": "code",
   "execution_count": 10,
   "id": "0a2a07a6-a226-4017-9076-50ecf592b90e",
   "metadata": {},
   "outputs": [
    {
     "data": {
      "text/plain": [
       "[SystemMessagePromptTemplate(prompt=PromptTemplate(input_variables=[], template='Given a chat history and the latest user question which might reference context in the chat history, formulate a standalone question which can be understood without the chat history. Do NOT answer the question, just reformulate it if needed and otherwise return it as is.')),\n",
       " MessagesPlaceholder(variable_name='chat_history'),\n",
       " HumanMessagePromptTemplate(prompt=PromptTemplate(input_variables=['input'], template='{input}'))]"
      ]
     },
     "execution_count": 10,
     "metadata": {},
     "output_type": "execute_result"
    }
   ],
   "source": [
    "contextualize_q_prompt.messages"
   ]
  },
  {
   "cell_type": "markdown",
   "id": "2a2cc0b4-20eb-42a5-826b-9f619490ee72",
   "metadata": {},
   "source": [
    "## QA chain\n",
    "\n",
    "`create_stuff_documents_chain` takes chat history, queried document and input question, to build and question-answer chain. \n"
   ]
  },
  {
   "cell_type": "code",
   "execution_count": 11,
   "id": "7fe3bc15-6162-4c44-b622-859a9a4dc034",
   "metadata": {},
   "outputs": [],
   "source": [
    "from langchain.chains.combine_documents import create_stuff_documents_chain\n",
    "qa_system_prompt= '''\n",
    "Only Use the following pieces of context to answer the question at the end.\n",
    "If you don't know the answer, just say that I am sorry, I don't know, don't try to make up an answer.\n",
    "Use monden English and business tone. Keep the answer as concise as possible.\n",
    "\n",
    "{context}\n",
    "'''\n",
    "qa_prompt = ChatPromptTemplate.from_messages(\n",
    "    [\n",
    "        (\"system\", qa_system_prompt),\n",
    "        MessagesPlaceholder(\"chat_history\"),\n",
    "        (\"human\", \"{input}\"),\n",
    "    ]\n",
    ")\n",
    "\n",
    "question_answer_chain = create_stuff_documents_chain(llm, qa_prompt)"
   ]
  },
  {
   "cell_type": "markdown",
   "id": "8cb753e7-7cc2-4ae7-88b4-d8f56d128596",
   "metadata": {},
   "source": [
    "## RAG Chain\n",
    "\n",
    "Now let's put `history_aware_retriever` and `question_answer_chain` in sequence"
   ]
  },
  {
   "cell_type": "code",
   "execution_count": 12,
   "id": "00437bef-b485-4368-a73b-10e67e0a4ee8",
   "metadata": {},
   "outputs": [],
   "source": [
    "from langchain.chains import create_retrieval_chain\n",
    "rag_chain = create_retrieval_chain(history_aware_retriever, question_answer_chain)"
   ]
  },
  {
   "cell_type": "code",
   "execution_count": 13,
   "id": "37a45e1c-e60c-4f28-a0c3-7ecc70ed3ef8",
   "metadata": {},
   "outputs": [
    {
     "data": {
      "text/plain": [
       "RunnableBinding(bound=RunnableAssign(mapper={\n",
       "  context: RunnableBinding(bound=RunnableBranch(branches=[(RunnableLambda(lambda x: not x.get('chat_history', False)), RunnableLambda(lambda x: x['input'])\n",
       "           | VectorStoreRetriever(tags=['Chroma', 'OpenAIEmbeddings'], vectorstore=<langchain_chroma.vectorstores.Chroma object at 0x12597b310>, search_kwargs={'k': 6}))], default=ChatPromptTemplate(input_variables=['chat_history', 'input'], input_types={'chat_history': typing.List[typing.Union[langchain_core.messages.ai.AIMessage, langchain_core.messages.human.HumanMessage, langchain_core.messages.chat.ChatMessage, langchain_core.messages.system.SystemMessage, langchain_core.messages.function.FunctionMessage, langchain_core.messages.tool.ToolMessage]]}, messages=[SystemMessagePromptTemplate(prompt=PromptTemplate(input_variables=[], template='Given a chat history and the latest user question which might reference context in the chat history, formulate a standalone question which can be understood without the chat history. Do NOT answer the question, just reformulate it if needed and otherwise return it as is.')), MessagesPlaceholder(variable_name='chat_history'), HumanMessagePromptTemplate(prompt=PromptTemplate(input_variables=['input'], template='{input}'))])\n",
       "           | ChatOpenAI(client=<openai.resources.chat.completions.Completions object at 0x125707a10>, async_client=<openai.resources.chat.completions.AsyncCompletions object at 0x125301dd0>, model_name='gpt-3.5-turbo-0125', openai_api_key=SecretStr('**********'), openai_proxy='')\n",
       "           | StrOutputParser()\n",
       "           | VectorStoreRetriever(tags=['Chroma', 'OpenAIEmbeddings'], vectorstore=<langchain_chroma.vectorstores.Chroma object at 0x12597b310>, search_kwargs={'k': 6})), config={'run_name': 'retrieve_documents'})\n",
       "})\n",
       "| RunnableAssign(mapper={\n",
       "    answer: RunnableBinding(bound=RunnableBinding(bound=RunnableAssign(mapper={\n",
       "              context: RunnableLambda(format_docs)\n",
       "            }), config={'run_name': 'format_inputs'})\n",
       "            | ChatPromptTemplate(input_variables=['chat_history', 'context', 'input'], input_types={'chat_history': typing.List[typing.Union[langchain_core.messages.ai.AIMessage, langchain_core.messages.human.HumanMessage, langchain_core.messages.chat.ChatMessage, langchain_core.messages.system.SystemMessage, langchain_core.messages.function.FunctionMessage, langchain_core.messages.tool.ToolMessage]]}, messages=[SystemMessagePromptTemplate(prompt=PromptTemplate(input_variables=['context'], template=\"\\nOnly Use the following pieces of context to answer the question at the end.\\nIf you don't know the answer, just say that I am sorry, I don't know, don't try to make up an answer.\\nUse monden English and business tone. Keep the answer as concise as possible.\\n\\n{context}\\n\")), MessagesPlaceholder(variable_name='chat_history'), HumanMessagePromptTemplate(prompt=PromptTemplate(input_variables=['input'], template='{input}'))])\n",
       "            | ChatOpenAI(client=<openai.resources.chat.completions.Completions object at 0x125707a10>, async_client=<openai.resources.chat.completions.AsyncCompletions object at 0x125301dd0>, model_name='gpt-3.5-turbo-0125', openai_api_key=SecretStr('**********'), openai_proxy='')\n",
       "            | StrOutputParser(), config={'run_name': 'stuff_documents_chain'})\n",
       "  }), config={'run_name': 'retrieval_chain'})"
      ]
     },
     "execution_count": 13,
     "metadata": {},
     "output_type": "execute_result"
    }
   ],
   "source": [
    "rag_chain"
   ]
  },
  {
   "cell_type": "markdown",
   "id": "ae36edf8-cc0b-43ce-801e-92897afd57f0",
   "metadata": {},
   "source": [
    "### A quick test, asking 2 questions. The second question uses the first one as reference."
   ]
  },
  {
   "cell_type": "code",
   "execution_count": 14,
   "id": "5daa1e9e-70ca-408b-add0-b98da6586ae1",
   "metadata": {},
   "outputs": [
    {
     "name": "stdout",
     "output_type": "stream",
     "text": [
      "Common ways of effective SaaS management include scaling governance based on risk and impact, treating SaaS as a strategic asset, empowering line of business owners for accountability, championing internal training and adoption campaigns, managing licenses in real time, building a partnership between IT and Finance, and taking a programmatic approach to renewals.\n"
     ]
    }
   ],
   "source": [
    "from langchain_core.messages import HumanMessage\n",
    "\n",
    "chat_history = []\n",
    "\n",
    "question = \"What is SaaS management?\"\n",
    "ai_msg_1 = rag_chain.invoke({\"input\": question, \"chat_history\": chat_history})\n",
    "chat_history.extend([HumanMessage(content=question), ai_msg_1[\"answer\"]])\n",
    "\n",
    "second_question = \"What are common ways of doing it?\"\n",
    "ai_msg_2 = rag_chain.invoke({\"input\": second_question, \"chat_history\": chat_history})\n",
    "\n",
    "print(ai_msg_2[\"answer\"])"
   ]
  },
  {
   "cell_type": "code",
   "execution_count": 15,
   "id": "daf9a2ab-216a-4c50-b58b-a22bf52ebf0c",
   "metadata": {},
   "outputs": [
    {
     "data": {
      "text/plain": [
       "dict_keys(['input', 'chat_history', 'context', 'answer'])"
      ]
     },
     "execution_count": 15,
     "metadata": {},
     "output_type": "execute_result"
    }
   ],
   "source": [
    "ai_msg_2.keys()"
   ]
  },
  {
   "cell_type": "code",
   "execution_count": 16,
   "id": "f2430ebf-c251-470e-bc8c-3334fafcf312",
   "metadata": {},
   "outputs": [
    {
     "data": {
      "text/plain": [
       "[HumanMessage(content='What is SaaS management?'),\n",
       " 'SaaS management is the holistic business practice of proactively managing, optimizing, and governing all the SaaS applications within a company’s portfolio through inventory, license, and renewal management. It aims to provide complete visibility, license optimization, cost savings, and risk avoidance.']"
      ]
     },
     "execution_count": 16,
     "metadata": {},
     "output_type": "execute_result"
    }
   ],
   "source": [
    "ai_msg_2[\"chat_history\"]"
   ]
  },
  {
   "cell_type": "code",
   "execution_count": 17,
   "id": "681b1c4d-7473-46aa-ac9f-50b59a2c6116",
   "metadata": {},
   "outputs": [
    {
     "data": {
      "text/plain": [
       "Document(page_content='Step 5: Follow Best Practices for SaaS Management\\xa0\\nThe unmanaged growth of SaaS creates uncontrolled costs and increased risk. That’s why you started this process, after all. You need to discover all the apps in your environment and get visibility into each app’s metadata. And don’t forget to put small wins up on the board to strengthen buy-in across the company as you continue the journey.\\nAlong the way, follow these best practices for SaaS Management:\\n\\nScale SaaS governance based on risk and impact.\\nTreat SaaS as a strategic asset.\\nEmpower line of business owners to create accountability.\\nChampion internal training and adoption campaigns for SaaS.\\nManage SaaS licenses in real time.\\nBuild a partnership between IT and Finance.\\nTake a programmatic approach to renewals.', metadata={'source': 'https://zylo.com/blog/saas-management/', 'start_index': 24766})"
      ]
     },
     "execution_count": 17,
     "metadata": {},
     "output_type": "execute_result"
    }
   ],
   "source": [
    "ai_msg_2[\"context\"][0]"
   ]
  },
  {
   "cell_type": "code",
   "execution_count": 18,
   "id": "db9e1e23-36c9-4f1b-b1e7-8a657959ff79",
   "metadata": {},
   "outputs": [
    {
     "data": {
      "text/plain": [
       "[HumanMessage(content='What is SaaS management?'),\n",
       " 'SaaS management is the holistic business practice of proactively managing, optimizing, and governing all the SaaS applications within a company’s portfolio through inventory, license, and renewal management. It aims to provide complete visibility, license optimization, cost savings, and risk avoidance.']"
      ]
     },
     "execution_count": 18,
     "metadata": {},
     "output_type": "execute_result"
    }
   ],
   "source": [
    "chat_history"
   ]
  },
  {
   "cell_type": "markdown",
   "id": "396d8338-f427-4afe-93f4-b769c657f921",
   "metadata": {},
   "source": [
    "### check `history_aware_retriever` output"
   ]
  },
  {
   "cell_type": "code",
   "execution_count": 19,
   "id": "fb2ad3b6-7854-4ff1-834b-41925f6238bf",
   "metadata": {},
   "outputs": [],
   "source": [
    "history_retriever_output = history_aware_retriever.invoke({\"input\": \"how to do it?\", \n",
    "                                                           \"chat_history\": chat_history})"
   ]
  },
  {
   "cell_type": "code",
   "execution_count": 20,
   "id": "5cba7a4d-90a4-4269-a731-46fea8e168cf",
   "metadata": {},
   "outputs": [
    {
     "data": {
      "text/plain": [
       "Document(page_content='Requirement #4: Alignment with strategic business objectives\\nWhen you tie SaaS Management into your company-level goals, it’s easier to drive business value. Depending on your business, that could be a lot of things. We often see companies use SaaS Management to minimize risk, increase software adoption, reduce operating expenses, fund innovation, reduce shadow IT, and drive sustainable business growth – to name a few. In short, understand your strategic company goals and outline how SaaS Management will support them.\\nStep 2: Define Effective SaaS Management\\nEffective SaaS Management involves the strategic oversight and optimization of Software as a Service (SaaS) applications within an organization. This includes implementing policies, processes, and tools to ensure the efficient and secure use of cloud-based software.\\xa0\\nAs we mentioned before, SaaS Management must be tied to your business objectives. Your organization is unique, so those goals may differ from other companies.', metadata={'source': 'https://zylo.com/blog/saas-management/', 'start_index': 20687})"
      ]
     },
     "execution_count": 20,
     "metadata": {},
     "output_type": "execute_result"
    }
   ],
   "source": [
    "history_retriever_output[0]"
   ]
  },
  {
   "cell_type": "markdown",
   "id": "9e29f327-dd5e-4198-8feb-a18b995a29b2",
   "metadata": {},
   "source": [
    "### Look into QA chain. Check how QA chain works"
   ]
  },
  {
   "cell_type": "code",
   "execution_count": 21,
   "id": "2b1f47d8-4729-49f6-a439-5e0e9cb2aab7",
   "metadata": {},
   "outputs": [
    {
     "data": {
      "text/plain": [
       "[SystemMessagePromptTemplate(prompt=PromptTemplate(input_variables=['context'], template=\"\\nOnly Use the following pieces of context to answer the question at the end.\\nIf you don't know the answer, just say that I am sorry, I don't know, don't try to make up an answer.\\nUse monden English and business tone. Keep the answer as concise as possible.\\n\\n{context}\\n\")),\n",
       " MessagesPlaceholder(variable_name='chat_history'),\n",
       " HumanMessagePromptTemplate(prompt=PromptTemplate(input_variables=['input'], template='{input}'))]"
      ]
     },
     "execution_count": 21,
     "metadata": {},
     "output_type": "execute_result"
    }
   ],
   "source": [
    "qa_prompt.messages"
   ]
  },
  {
   "cell_type": "code",
   "execution_count": 22,
   "id": "412f591c-bb7d-4a2c-9c3f-6786145fcd14",
   "metadata": {},
   "outputs": [
    {
     "data": {
      "text/plain": [
       "'To effectively manage SaaS, follow these steps:\\n1. Build the foundation by establishing a system of record and a discovery mechanism.\\n2. Define effective SaaS management aligned with strategic business objectives.\\n3. Get the right people involved, with IT and Finance collaboration.\\n4. Follow best practices for SaaS management, including governance, treating SaaS as a strategic asset, real-time license management, and cost containment.\\n5. Continuously monitor and optimize SaaS usage, aligning it with business goals and driving value.'"
      ]
     },
     "execution_count": 22,
     "metadata": {},
     "output_type": "execute_result"
    }
   ],
   "source": [
    "question_answer_chain.invoke({\"input\": \"How to do it?\",  \"chat_history\": chat_history, \"context\": history_retriever_output})"
   ]
  },
  {
   "cell_type": "markdown",
   "id": "da22374c-3296-435c-9115-4003a493aeef",
   "metadata": {},
   "source": [
    "## Automate the chat history update step and persistchat history \n",
    "\n",
    "`BaseChatMessageHistory` Stores chat history.\n",
    "`RunnableWithMessageHistory` handles injecting chat history into inputs and updating it after each invocation."
   ]
  },
  {
   "cell_type": "code",
   "execution_count": 23,
   "id": "088b9645-ad51-4d31-b12f-6b0e8ec6302f",
   "metadata": {},
   "outputs": [],
   "source": [
    "from langchain_core.chat_history import BaseChatMessageHistory\n",
    "from langchain_core.runnables.history import RunnableWithMessageHistory\n",
    "from langchain_community.chat_message_histories import ChatMessageHistory\n",
    "\n",
    "store = {}\n",
    "\n",
    "def get_session_history(session_id: str) -> BaseChatMessageHistory:\n",
    "    if session_id not in store:\n",
    "        store[session_id] = ChatMessageHistory()\n",
    "    return store[session_id]\n",
    "\n",
    "conversational_rag_chain = RunnableWithMessageHistory(\n",
    "    rag_chain,\n",
    "    get_session_history,\n",
    "    input_messages_key=\"input\",\n",
    "    history_messages_key=\"chat_history\",\n",
    "    output_messages_key=\"answer\",\n",
    ")"
   ]
  },
  {
   "cell_type": "markdown",
   "id": "e7fdea1d-7d45-450a-9eff-8fb3683d3cf7",
   "metadata": {},
   "source": [
    "### Test the performance with diferent session_ids"
   ]
  },
  {
   "cell_type": "code",
   "execution_count": 24,
   "id": "72abdb9c-a0bc-4fdd-9993-606f8d8d3024",
   "metadata": {},
   "outputs": [
    {
     "data": {
      "text/plain": [
       "\"SaaS Management is the holistic business practice of proactively managing, optimizing, and governing all the SaaS applications within a company's portfolio through inventory, license, and renewal management. It involves ensuring complete visibility, license optimization, cost savings, and risk avoidance in the management of cloud-based software applications.\""
      ]
     },
     "execution_count": 24,
     "metadata": {},
     "output_type": "execute_result"
    }
   ],
   "source": [
    "conversational_rag_chain.invoke(\n",
    "    {\"input\": \"What is SaaS management?\"},\n",
    "    config={\n",
    "        \"configurable\": {\"session_id\": \"abc123\"}\n",
    "    },  \n",
    ")[\"answer\"]"
   ]
  },
  {
   "cell_type": "code",
   "execution_count": 25,
   "id": "4be6eca8-cf5f-41b7-83e4-b39100d60102",
   "metadata": {},
   "outputs": [
    {
     "data": {
      "text/plain": [
       "'Common ways to implement effective SaaS Management include scaling governance based on risk and impact, treating SaaS as a strategic asset, empowering line of business owners for accountability, conducting internal training and adoption campaigns, managing licenses in real time, establishing a partnership between IT and Finance, and taking a programmatic approach to renewals.'"
      ]
     },
     "execution_count": 25,
     "metadata": {},
     "output_type": "execute_result"
    }
   ],
   "source": [
    "conversational_rag_chain.invoke(\n",
    "    {\"input\": \"What are the common ways to do it?\"},\n",
    "    config={\n",
    "        \"configurable\": {\"session_id\": \"abc123\"}\n",
    "    },  \n",
    ")[\"answer\"]"
   ]
  },
  {
   "cell_type": "code",
   "execution_count": 26,
   "id": "38e0457e-c898-42f4-aa18-04a5c58778d1",
   "metadata": {},
   "outputs": [
    {
     "data": {
      "text/plain": [
       "\"Shadow IT refers to the practice of employees using unauthorized software or applications without the knowledge or approval of the organization's IT department or management.\""
      ]
     },
     "execution_count": 26,
     "metadata": {},
     "output_type": "execute_result"
    }
   ],
   "source": [
    "conversational_rag_chain.invoke(\n",
    "    {\"input\": \"What is shadow IT?\"},\n",
    "    config={\n",
    "        \"configurable\": {\"session_id\": \"abc456\"}\n",
    "    },  \n",
    ")[\"answer\"]"
   ]
  },
  {
   "cell_type": "code",
   "execution_count": 27,
   "id": "0e8dbda9-3c37-4d8a-8b0b-3f2bdc86bb3e",
   "metadata": {},
   "outputs": [
    {
     "data": {
      "text/plain": [
       "{'input': 'How to control it?',\n",
       " 'chat_history': [HumanMessage(content='What is shadow IT?'),\n",
       "  AIMessage(content=\"Shadow IT refers to the practice of employees using unauthorized software or applications without the knowledge or approval of the organization's IT department or management.\")],\n",
       " 'context': [Document(page_content='Govern shadow IT\\nApps often fly under the radar and are not reviewed by another department like Compliance or IT. How? Individual employees are responsible for about 3% of an organization’s SaaS by spend and 35% by application quantity. Yikes!\\xa0\\nMore than one-third of your apps likely come from employee acquisitions — because nearly 1 in 10 employees (7%) expense SaaS.\\xa0 If you have 300 apps in your portfolio, that’s just over 100 unvetted apps that increase the security, financial, and operational risks for your organization\\nReduce security and compliance risks\\nWorse still, 65% of expensed apps (shadow IT) have a security risk score of “Poor” or “Low.” That means your company could be on the hook for data breaches, identity theft, or doxxing that resulted from employee use of unauthorized and insecure apps. It presents a strong case for governance policies to nip unsanctioned purchases in the bud – before they happen.\\nSigns You Need a Clear SaaS Management Strategy', metadata={'source': 'https://zylo.com/blog/saas-management/', 'start_index': 4930}),\n",
       "  Document(page_content='Requirement #2: A discovery mechanism\\nThe SaaS Management Platform you use as a system of record should have a discovery mechanism that finds all of your SaaS in perpetuity. Legacy software tools are neither equipped as a system of record nor have sufficient discovery mechanisms. Not only does shadow IT go undetected, but business-owned purchases do, too. As much as 51% of expensed software is miscategorized by employees in expense reports.\\xa0\\nRequirement #3: Executive sponsorship\\nBusiness initiatives that have executive buy-in and top-down support are the most successful. Unfortunately, it can be difficult to rally everyone behind the same SaaS Management strategy.', metadata={'source': 'https://zylo.com/blog/saas-management/', 'start_index': 19340}),\n",
       "  Document(page_content='4 Challenges SaaS Management Helps Solve\\nSaaS brings several challenges to modern businesses as they come to grips with how to manage it.\\xa0 Transitioning methodologies – from Software Asset Management to SaaS Management – requires a mindset shift. Your program should help:\\nEliminate blind spots\\nWhat was once a centrally purchased and managed asset by IT, ITAM, and SAM teams is now purchased by individual employees and lines of business. On average, IT manages 28% of an organization’s SaaS portfolio by spend, and just 17% by application quantity. In contrast, lines of business control the lion’s share of your portfolio – 67% of SaaS spend and 48% of applications. IT’s limited oversight into the tech stack means a majority of the apps and spend are unaccounted for and unmanaged.\\nContain and reduce spend', metadata={'source': 'https://zylo.com/blog/saas-management/', 'start_index': 3628}),\n",
       "  Document(page_content='No clear SaaS sourcing policy: Without a well-defined sourcing policy, organizations may find themselves in a chaotic software landscape. Lacking guidelines for selecting and integrating SaaS solutions leads to inefficiencies and potential security risks.\\nToo few or too many licenses: Striking the right balance in licensing is crucial. Too few licenses can hinder productivity, while an excess can result in unnecessary costs. This dichotomy emphasizes the importance of optimizing licensing agreements to maximize resource utilization.\\nNo measurement of SaaS application adoption or utilization: Failing to track how employees engage with SaaS applications hampers the ability to optimize workflows and identify underutilized tools, wasting resources on unused software.', metadata={'source': 'https://zylo.com/blog/saas-management/', 'start_index': 6251}),\n",
       "  Document(page_content='Enter SaaS inventory management – the foundation of your SaaS Management program.\\nInventory management is the ongoing discovery of SaaS in your environment and centralization of key application data such as suppliers, spend, app owners, and security certifications. Doing so enables you to implement effective SaaS governance, which helps you control and prevent unsanctioned spending and stay ahead of security and compliance risks. Inventory management is the essential first step that makes license and renewals management possible.\\xa0\\nIT teams often lead the charge regarding inventory management – while SAM teams get involved at the enterprise level. Inter-departmental cooperation ensures company-wide visibility and continued program success.\\xa0\\nBy practicing good SaaS Inventory Management, you can:', metadata={'source': 'https://zylo.com/blog/saas-management/', 'start_index': 11737}),\n",
       "  Document(page_content='Power Your SaaS Management Practice with Technology\\nYou’ve defined your SaaS Management program – now what? To set your organization up for success, it’s critical you have technology in place to enable it.\\nWhy Your Legacy Tools and Spreadsheets Don’t Cut It\\nDespite recognizing the challenges inherent to managing hundreds (and even thousands) of SaaS apps, most IT and SAM leaders think they have their SaaS stack locked down.\\xa0\\nIn fact, our latest report found that a surprising 70% think their current SaaS tracking methods are accurate. Unfortunately, 70% of companies are also still using legacy tools (like contract management and SAM tools) or spreadsheets to keep up with their SaaS apps.\\xa0\\nLet’s break down the pitfalls of using these approaches to manage SaaS.\\nSoftware Asset Management Tools', metadata={'source': 'https://zylo.com/blog/saas-management/', 'start_index': 25546})],\n",
       " 'answer': 'To control shadow IT, organizations should implement governance policies that prevent unsanctioned software purchases. This can be achieved by having a clear SaaS management strategy with a discovery mechanism to detect all SaaS applications in use. Additionally, securing executive sponsorship for the SaaS management program can help ensure its success by gaining top-down support. Regular inventory management of SaaS applications is also crucial for controlling and preventing unauthorized spending and addressing security and compliance risks.'}"
      ]
     },
     "execution_count": 27,
     "metadata": {},
     "output_type": "execute_result"
    }
   ],
   "source": [
    "conversational_rag_chain.invoke(\n",
    "    {\"input\": \"How to control it?\"},\n",
    "    config={\n",
    "        \"configurable\": {\"session_id\": \"abc456\"}\n",
    "    },  \n",
    ")"
   ]
  },
  {
   "cell_type": "code",
   "execution_count": 28,
   "id": "bbf4daa5-bbaa-4dda-8cfd-1450de0bf9c7",
   "metadata": {},
   "outputs": [
    {
     "data": {
      "text/plain": [
       "ChatMessageHistory(messages=[HumanMessage(content='What are the common ways to do it?'), AIMessage(content='Common ways to implement effective SaaS Management include scaling governance based on risk and impact, treating SaaS as a strategic asset, empowering line of business owners for accountability, conducting internal training and adoption campaigns, managing licenses in real time, establishing a partnership between IT and Finance, and taking a programmatic approach to renewals.')])"
      ]
     },
     "execution_count": 28,
     "metadata": {},
     "output_type": "execute_result"
    }
   ],
   "source": [
    "ChatMessageHistory(messages = get_session_history(\"abc123\").messages[-2:])"
   ]
  },
  {
   "cell_type": "code",
   "execution_count": 29,
   "id": "dc3918a7-8897-456c-85c4-366c7d492474",
   "metadata": {},
   "outputs": [
    {
     "data": {
      "text/plain": [
       "\"I am sorry, I don't know.\""
      ]
     },
     "execution_count": 29,
     "metadata": {},
     "output_type": "execute_result"
    }
   ],
   "source": [
    "conversational_rag_chain.invoke(\n",
    "    {\"input\": \"who is Taylor Swift?\"},\n",
    "    config={\n",
    "        \"configurable\": {\"session_id\": \"0\"}\n",
    "    },  \n",
    ")[\"answer\"]"
   ]
  },
  {
   "cell_type": "code",
   "execution_count": null,
   "id": "aedce02f-6718-4396-b06d-921fb45891b5",
   "metadata": {},
   "outputs": [],
   "source": []
  },
  {
   "cell_type": "code",
   "execution_count": null,
   "id": "4df3e6e6-8056-4654-a34f-62c230c49e04",
   "metadata": {},
   "outputs": [],
   "source": []
  }
 ],
 "metadata": {
  "kernelspec": {
   "display_name": "Python 3 (ipykernel)",
   "language": "python",
   "name": "python3"
  },
  "language_info": {
   "codemirror_mode": {
    "name": "ipython",
    "version": 3
   },
   "file_extension": ".py",
   "mimetype": "text/x-python",
   "name": "python",
   "nbconvert_exporter": "python",
   "pygments_lexer": "ipython3",
   "version": "3.11.9"
  }
 },
 "nbformat": 4,
 "nbformat_minor": 5
}

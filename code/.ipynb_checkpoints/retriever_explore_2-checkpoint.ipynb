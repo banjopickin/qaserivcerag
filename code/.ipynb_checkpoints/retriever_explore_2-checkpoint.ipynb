{
 "cells": [
  {
   "cell_type": "code",
   "execution_count": 1,
   "id": "30ef6956-352a-46e2-a83e-4e4e60e303d4",
   "metadata": {},
   "outputs": [
    {
     "data": {
      "text/plain": [
       "True"
      ]
     },
     "execution_count": 1,
     "metadata": {},
     "output_type": "execute_result"
    }
   ],
   "source": [
    "import dotenv\n",
    "\n",
    "dotenv.load_dotenv()"
   ]
  },
  {
   "cell_type": "markdown",
   "id": "70528a6a-8e51-41d8-8ed6-16adee451563",
   "metadata": {},
   "source": [
    "In this document I will explore difference kinds of Vector Retriever in Langchain. I will try the vanilla version `Vectorstore`, then `MultiVectorRetriever` using smaller chunks embedding which is similar to `ParentDocumentRetriever`, as well as summary embedding. I will use the some query to measure the performance"
   ]
  },
  {
   "cell_type": "code",
   "execution_count": 2,
   "id": "f05d92b5-11e3-44e4-82b2-ff7fc1b39386",
   "metadata": {},
   "outputs": [],
   "source": [
    "import bs4\n",
    "from langchain import hub\n",
    "from langchain_core.documents import Document\n",
    "from langchain_community.document_loaders import WebBaseLoader\n",
    "from langchain_chroma import Chroma\n",
    "from langchain_core.output_parsers import StrOutputParser\n",
    "from langchain_core.runnables import RunnablePassthrough\n",
    "from langchain_openai import OpenAIEmbeddings\n",
    "from langchain_text_splitters import RecursiveCharacterTextSplitter\n",
    "from langchain_core.prompts import PromptTemplate\n",
    "from langchain.retrievers.multi_vector import MultiVectorRetriever\n",
    "from langchain.storage import InMemoryByteStore\n",
    "from langchain_core.prompts import ChatPromptTemplate"
   ]
  },
  {
   "cell_type": "code",
   "execution_count": 3,
   "id": "47874dd9-1900-40c3-bcca-7a1bef3d007f",
   "metadata": {},
   "outputs": [],
   "source": [
    "from langchain_openai import ChatOpenAI\n",
    "\n",
    "llm = ChatOpenAI(model=\"gpt-3.5-turbo-0125\")"
   ]
  },
  {
   "cell_type": "markdown",
   "id": "97d9e1c8-9650-4c3e-9374-64dc6ac0960b",
   "metadata": {},
   "source": [
    "## Load pages and split into chunks"
   ]
  },
  {
   "cell_type": "code",
   "execution_count": 4,
   "id": "1ec82c90-658e-4c20-a08d-6c50e3cb6618",
   "metadata": {},
   "outputs": [],
   "source": [
    "pages = [\"https://zylo.com/blog/guide-saas-renewal/\", \"https://zylo.com/blog/saas-management/\"]"
   ]
  },
  {
   "cell_type": "code",
   "execution_count": 5,
   "id": "cca23f57-54f1-4df7-804b-1d98c8373676",
   "metadata": {},
   "outputs": [],
   "source": [
    "loader = WebBaseLoader(\n",
    "    web_paths=pages,\n",
    "    bs_kwargs=dict(\n",
    "        parse_only=bs4.SoupStrainer(\n",
    "            class_=(\"hero__text-section-container col col-12 col-lg-6\", \"site-main\")\n",
    "        )\n",
    "    ),\n",
    ")\n",
    "docs = loader.load()"
   ]
  },
  {
   "cell_type": "code",
   "execution_count": 6,
   "id": "348a9e42-f47e-4c87-bba4-73de6acaef74",
   "metadata": {},
   "outputs": [],
   "source": [
    "text_splitter = RecursiveCharacterTextSplitter(chunk_size=1000)\n",
    "docs = text_splitter.split_documents(docs)"
   ]
  },
  {
   "cell_type": "code",
   "execution_count": 7,
   "id": "ff0d7ca7-bdb6-422d-a926-d8a18edbb547",
   "metadata": {},
   "outputs": [
    {
     "data": {
      "text/plain": [
       "76"
      ]
     },
     "execution_count": 7,
     "metadata": {},
     "output_type": "execute_result"
    }
   ],
   "source": [
    "len(docs)"
   ]
  },
  {
   "cell_type": "markdown",
   "id": "0932522e-c46c-4362-926a-2ea641ce3996",
   "metadata": {},
   "source": [
    "# Vanilla retriever: vectorstore"
   ]
  },
  {
   "cell_type": "code",
   "execution_count": 8,
   "id": "1c3450e8-1ff4-4a04-a125-6dec7e48625d",
   "metadata": {},
   "outputs": [],
   "source": [
    "vectorstore = Chroma.from_documents(documents=docs, embedding=OpenAIEmbeddings())\n",
    "retriever = vectorstore.as_retriever(search_type=\"similarity\", search_kwargs={\"k\": 6})"
   ]
  },
  {
   "cell_type": "code",
   "execution_count": 9,
   "id": "814df386-499d-4bf7-a976-80d8abf59320",
   "metadata": {},
   "outputs": [],
   "source": [
    "retrieved_docs = retriever.invoke(\"what is saas?\")"
   ]
  },
  {
   "cell_type": "code",
   "execution_count": 10,
   "id": "3c16acf7-01b1-48e1-8138-ee4b949e6002",
   "metadata": {},
   "outputs": [
    {
     "data": {
      "text/plain": [
       "Document(page_content='SaaS is hosted in the cloud and owned by the vendor/supplier.\\xa0\\nLicenses are by subscription, giving you flexibility in deploying and scaling your software across the business and allowing for shorter-term commitments.\\nIT is no longer the sole buyer of SaaS – everyone at the company purchases it, often on credit cards. This decentralized purchasing leads to duplicate purchases and app redundancies that waste money and hinder efficiency.', metadata={'source': 'https://zylo.com/blog/saas-management/'})"
      ]
     },
     "execution_count": 10,
     "metadata": {},
     "output_type": "execute_result"
    }
   ],
   "source": [
    "retrieved_docs[0]"
   ]
  },
  {
   "cell_type": "markdown",
   "id": "dd1ca624-7380-46b6-8346-3bf159784d07",
   "metadata": {},
   "source": [
    "## MultiVectorRetriever with smaller chunks embedding"
   ]
  },
  {
   "cell_type": "code",
   "execution_count": 11,
   "id": "f5becd67-367a-418c-a08d-51f796a6b712",
   "metadata": {},
   "outputs": [],
   "source": [
    "# The vectorstore to use to index the child chunks\n",
    "vectorstore = Chroma(\n",
    "    collection_name=\"full_documents\", embedding_function=OpenAIEmbeddings()\n",
    ")\n",
    "# The storage layer for the parent documents\n",
    "store = InMemoryByteStore()\n",
    "id_key = \"doc_id\"\n",
    "# The retriever (empty to start)\n",
    "retriever = MultiVectorRetriever(\n",
    "    vectorstore=vectorstore,\n",
    "    byte_store=store,\n",
    "    id_key=id_key,\n",
    "    search_kwargs = {\"k\":10}\n",
    ")\n",
    "import uuid\n",
    "\n",
    "doc_ids = [str(uuid.uuid4()) for _ in docs]"
   ]
  },
  {
   "cell_type": "code",
   "execution_count": 12,
   "id": "78380ae8-19b2-41ca-aefb-b2d86c04767b",
   "metadata": {},
   "outputs": [],
   "source": [
    "# The splitter to use to create smaller chunks\n",
    "child_text_splitter = RecursiveCharacterTextSplitter(chunk_size=400)"
   ]
  },
  {
   "cell_type": "code",
   "execution_count": 13,
   "id": "42b574c1-cb73-4db0-ac17-a618597af176",
   "metadata": {},
   "outputs": [],
   "source": [
    "sub_docs = []\n",
    "for i, doc in enumerate(docs):\n",
    "    _id = doc_ids[i]\n",
    "    _sub_docs = child_text_splitter.split_documents([doc])\n",
    "    for _doc in _sub_docs:\n",
    "        _doc.metadata[id_key] = _id\n",
    "    sub_docs.extend(_sub_docs)"
   ]
  },
  {
   "cell_type": "code",
   "execution_count": 14,
   "id": "80b2d43d-df17-4bd2-8fd4-4cb3345f1992",
   "metadata": {},
   "outputs": [
    {
     "data": {
      "text/plain": [
       "226"
      ]
     },
     "execution_count": 14,
     "metadata": {},
     "output_type": "execute_result"
    }
   ],
   "source": [
    "len(sub_docs)"
   ]
  },
  {
   "cell_type": "code",
   "execution_count": 15,
   "id": "34785a73-98b8-4b88-ad86-b77c217e495f",
   "metadata": {},
   "outputs": [],
   "source": [
    "retriever.vectorstore.add_documents(sub_docs)\n",
    "retriever.docstore.mset(list(zip(doc_ids, docs)))"
   ]
  },
  {
   "cell_type": "code",
   "execution_count": 16,
   "id": "07cb75d7-1967-4781-afa7-447701edbe54",
   "metadata": {},
   "outputs": [
    {
     "data": {
      "text/plain": [
       "Document(page_content='SaaS is hosted in the cloud and owned by the vendor/supplier.\\xa0\\nLicenses are by subscription, giving you flexibility in deploying and scaling your software across the business and allowing for shorter-term commitments.', metadata={'doc_id': '1333a544-3772-49aa-a20c-a79dcf648bf7', 'source': 'https://zylo.com/blog/saas-management/'})"
      ]
     },
     "execution_count": 16,
     "metadata": {},
     "output_type": "execute_result"
    }
   ],
   "source": [
    "retriever.vectorstore.similarity_search(\"what is saas?\")[0]"
   ]
  },
  {
   "cell_type": "code",
   "execution_count": 17,
   "id": "ae2e8c7a-7db7-4d91-80a4-07ec3a585441",
   "metadata": {},
   "outputs": [],
   "source": [
    "parent_retrieved_docs = retriever.invoke(\"what is saas?\")"
   ]
  },
  {
   "cell_type": "code",
   "execution_count": 18,
   "id": "f5828ab3-5fae-49d3-b337-0b3f3a3c3c9b",
   "metadata": {},
   "outputs": [
    {
     "data": {
      "text/plain": [
       "Document(page_content='SaaS is hosted in the cloud and owned by the vendor/supplier.\\xa0\\nLicenses are by subscription, giving you flexibility in deploying and scaling your software across the business and allowing for shorter-term commitments.\\nIT is no longer the sole buyer of SaaS – everyone at the company purchases it, often on credit cards. This decentralized purchasing leads to duplicate purchases and app redundancies that waste money and hinder efficiency.', metadata={'source': 'https://zylo.com/blog/saas-management/'})"
      ]
     },
     "execution_count": 18,
     "metadata": {},
     "output_type": "execute_result"
    }
   ],
   "source": [
    "parent_retrieved_docs[0]"
   ]
  },
  {
   "cell_type": "markdown",
   "id": "eccf97ca-2bf3-45de-9bde-1ef23adc79f7",
   "metadata": {},
   "source": [
    "# MultiVectorRetriever with summary embeddings"
   ]
  },
  {
   "cell_type": "code",
   "execution_count": 19,
   "id": "3a48b27c-67d1-41a2-b41f-facb84f6e225",
   "metadata": {},
   "outputs": [],
   "source": [
    "chain = (\n",
    "    {\"doc\": lambda x: x.page_content}\n",
    "    | ChatPromptTemplate.from_template(\"Summarize the following document:\\n\\n{doc}\")\n",
    "    | ChatOpenAI(max_retries=0)\n",
    "    | StrOutputParser()\n",
    ")"
   ]
  },
  {
   "cell_type": "code",
   "execution_count": 20,
   "id": "3782a5da-dc73-4921-9ac2-52e3e5b64f89",
   "metadata": {},
   "outputs": [],
   "source": [
    "summaries = chain.batch(docs, {\"max_concurrency\": 5})"
   ]
  },
  {
   "cell_type": "code",
   "execution_count": 21,
   "id": "b2e41afc-32f6-4576-8797-27c7218a052a",
   "metadata": {},
   "outputs": [
    {
     "data": {
      "text/plain": [
       "76"
      ]
     },
     "execution_count": 21,
     "metadata": {},
     "output_type": "execute_result"
    }
   ],
   "source": [
    "len(summaries)"
   ]
  },
  {
   "cell_type": "code",
   "execution_count": 22,
   "id": "2a35f656-151a-4aae-96af-4dc5d366fc2f",
   "metadata": {},
   "outputs": [],
   "source": [
    "# The vectorstore to use to index the child chunks\n",
    "vectorstore = Chroma(collection_name=\"summaries\", embedding_function=OpenAIEmbeddings())\n",
    "# The storage layer for the parent documents\n",
    "store = InMemoryByteStore()\n",
    "id_key = \"doc_id\"\n",
    "# The retriever (empty to start)\n",
    "retriever = MultiVectorRetriever(\n",
    "    vectorstore=vectorstore,\n",
    "    byte_store=store,\n",
    "    id_key=id_key,\n",
    "    search_kwargs = {\"k\":10}\n",
    ")\n",
    "doc_ids = [str(uuid.uuid4()) for _ in docs]"
   ]
  },
  {
   "cell_type": "code",
   "execution_count": 23,
   "id": "62df9f81-6e25-4115-bb3b-e655a8b3c12c",
   "metadata": {},
   "outputs": [],
   "source": [
    "summary_docs = [\n",
    "    Document(page_content=s, metadata={id_key: doc_ids[i]})\n",
    "    for i, s in enumerate(summaries)\n",
    "]"
   ]
  },
  {
   "cell_type": "code",
   "execution_count": 24,
   "id": "655adbb7-6d83-4bfd-8c21-e876662aa4b4",
   "metadata": {},
   "outputs": [],
   "source": [
    "retriever.vectorstore.add_documents(summary_docs)\n",
    "retriever.docstore.mset(list(zip(doc_ids, docs)))"
   ]
  },
  {
   "cell_type": "code",
   "execution_count": 25,
   "id": "a48b7930-0120-4373-aac1-53b806ec913c",
   "metadata": {},
   "outputs": [
    {
     "data": {
      "text/plain": [
       "[Document(page_content='The document explains that Software as a Service (SaaS) is hosted in the cloud and owned by the vendor, allowing for flexibility in deployment and scaling. Licenses are obtained through subscription, allowing for shorter-term commitments. It notes that purchasing of SaaS has become decentralized within companies, leading to duplicate purchases and inefficiencies.', metadata={'doc_id': '1c384c24-b623-42be-b400-815e5d4c2c49'}),\n",
       " Document(page_content=\"The document discusses the importance of managing Software as a Service (SaaS) applications in modern businesses. It defines SaaS Management as the practice of proactively managing, optimizing, and governing all SaaS applications within a company's portfolio. The document highlights the significance, benefits, and impact of SaaS Management on organizations in the modern era.\", metadata={'doc_id': 'da31631a-02b5-4708-80dc-84d42636cbb6'}),\n",
       " Document(page_content='The document discusses different terms for the process of managing software applications and their costs and risks, such as SaaS operations, SaaS spend management, application portfolio management, and software asset management. It explains that SaaS Management as a business practice emerged in response to the unique attributes and challenges of Software as a Service (SaaS). The document also highlights the shift from on-premises software to SaaS in the early 2000s and the reasons why deploying SaaS makes sense.', metadata={'doc_id': '5188d8df-1ae6-4f63-8901-c5fe079098e6'}),\n",
       " Document(page_content='The document discusses the growing importance of SaaS (Software as a Service) management within enterprises. It highlights that the responsibility for SaaS management typically falls on IT, Software Asset Management, and Procurement teams, with IT and Finance leaders leading the charge. The document emphasizes the challenges of coordinating information across these departments and the changing nature of software acquisition. It introduces the role of the SaaS Manager as a crucial position in managing SaaS effectively within enterprises, pointing out that SaaS is becoming more prevalent and companies are spending more on SaaS than on-premises software. The document concludes by emphasizing the ongoing need for SaaS management expertise in the future.', metadata={'doc_id': '9b6262ae-7055-4c23-bcfe-a106891aa236'})]"
      ]
     },
     "execution_count": 25,
     "metadata": {},
     "output_type": "execute_result"
    }
   ],
   "source": [
    "vectorstore.similarity_search(\"what is saas?\")"
   ]
  },
  {
   "cell_type": "code",
   "execution_count": 27,
   "id": "61d76213-41f3-448a-a0eb-e49dae2300c7",
   "metadata": {},
   "outputs": [],
   "source": [
    "summary_retrieved_docs = retriever.invoke(\"what is saas?\")"
   ]
  },
  {
   "cell_type": "code",
   "execution_count": 28,
   "id": "8ec81374-4256-4c67-ac65-69256e9be0bc",
   "metadata": {},
   "outputs": [
    {
     "data": {
      "text/plain": [
       "Document(page_content='SaaS is hosted in the cloud and owned by the vendor/supplier.\\xa0\\nLicenses are by subscription, giving you flexibility in deploying and scaling your software across the business and allowing for shorter-term commitments.\\nIT is no longer the sole buyer of SaaS – everyone at the company purchases it, often on credit cards. This decentralized purchasing leads to duplicate purchases and app redundancies that waste money and hinder efficiency.', metadata={'source': 'https://zylo.com/blog/saas-management/'})"
      ]
     },
     "execution_count": 28,
     "metadata": {},
     "output_type": "execute_result"
    }
   ],
   "source": [
    "summary_retrieved_docs[0]"
   ]
  },
  {
   "cell_type": "code",
   "execution_count": null,
   "id": "30920a92-54cf-42c3-8eb6-0cca1f65937b",
   "metadata": {},
   "outputs": [],
   "source": []
  }
 ],
 "metadata": {
  "kernelspec": {
   "display_name": "Python 3 (ipykernel)",
   "language": "python",
   "name": "python3"
  },
  "language_info": {
   "codemirror_mode": {
    "name": "ipython",
    "version": 3
   },
   "file_extension": ".py",
   "mimetype": "text/x-python",
   "name": "python",
   "nbconvert_exporter": "python",
   "pygments_lexer": "ipython3",
   "version": "3.11.9"
  }
 },
 "nbformat": 4,
 "nbformat_minor": 5
}
